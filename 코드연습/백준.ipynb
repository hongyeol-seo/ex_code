{
 "cells": [
  {
   "cell_type": "code",
   "execution_count": 1,
   "metadata": {},
   "outputs": [
    {
     "name": "stdout",
     "output_type": "stream",
     "text": [
      "a\n"
     ]
    }
   ],
   "source": [
    "alpa = dict()\n",
    "\n",
    "msg = \"zZa\"\n",
    "\n",
    "for i in msg:\n",
    "    if i in alpa :\n",
    "        alpa[i] +=1\n",
    "    \n",
    "    else :\n",
    "        alpa[i] = 1\n",
    "    \n",
    "res = sorted(alpa.items(), key=(lambda x: x[1]),reverse=True)\n",
    "\n",
    "max_count = -1\n",
    "max_spell = \"\"\n",
    "\n",
    "for i in range(len(res)):\n",
    "    if res[i][1] > max_count:\n",
    "        max_count = res[i][1]\n",
    "        max_spell = res[i][0]\n",
    "    elif res[i][1] < max_count:\n",
    "        continue\n",
    "    else :\n",
    "        max_count = 0    \n",
    "\n",
    "if max_count :\n",
    "    print(max_spell)\n",
    "else :\n",
    "    print(\"?\")\n"
   ]
  }
 ],
 "metadata": {
  "kernelspec": {
   "display_name": "Python 3",
   "language": "python",
   "name": "python3"
  },
  "language_info": {
   "codemirror_mode": {
    "name": "ipython",
    "version": 3
   },
   "file_extension": ".py",
   "mimetype": "text/x-python",
   "name": "python",
   "nbconvert_exporter": "python",
   "pygments_lexer": "ipython3",
   "version": "3.11.1"
  },
  "orig_nbformat": 4,
  "vscode": {
   "interpreter": {
    "hash": "af96142ae842b0120e39a85872c92ecfe8d087a197ac9d778b7c1d7c710f1acf"
   }
  }
 },
 "nbformat": 4,
 "nbformat_minor": 2
}
